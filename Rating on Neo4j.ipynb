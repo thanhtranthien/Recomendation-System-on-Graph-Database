{
 "cells": [
  {
   "cell_type": "markdown",
   "id": "38dd3216",
   "metadata": {},
   "source": [
    "# Chương trình tính dự đoán rating trên dữ liệu Neo4j\n",
    "\n",
    "## Hai độ đo tương tự sử dụng là Cosin và Pearson"
   ]
  },
  {
   "cell_type": "code",
   "execution_count": null,
   "id": "2b677f26",
   "metadata": {},
   "outputs": [],
   "source": [
    "import math\n",
    "from py2neo import Graph, Node\n",
    "graph=Graph(\"bolt://localhost:7687\",auth=(\"neo4j\", \"123\"))"
   ]
  },
  {
   "cell_type": "markdown",
   "id": "3f70d320",
   "metadata": {},
   "source": [
    "## Dự đoán rating bằng độ đo Cosin"
   ]
  },
  {
   "cell_type": "code",
   "execution_count": null,
   "id": "b91e0e2a",
   "metadata": {},
   "outputs": [],
   "source": [
    "def predictRatingCosin(user, movie):\n",
    "    rec = graph.run(\n",
    "                   # Tính số movie được u1 rated và u2 rated. Sau đó tính độ tương tự Cosin\n",
    "                    'MATCH (u1:User {id:$userid})-[x:RATED]->(m:Movie)<-[y:RATED]-(u2:User) '\n",
    "                    'WITH COUNT(m) AS numbermovies, SUM(x.rating * y.rating) AS xyDotProduct,'\n",
    "                    'SQRT(REDUCE(xDot = 0.0, a IN COLLECT(x.rating) | xDot + a^2)) AS xLength,'\n",
    "                    'SQRT(REDUCE(yDot = 0.0, b IN COLLECT(y.rating) | yDot + b^2)) AS yLength, '\n",
    "                    'u1, u2 WHERE numbermovies > 5 '\n",
    "                    'WITH u1, u2, CASE WHEN xLength*yLength>0 THEN xyDotProduct/(xLength * yLength) ELSE 0 END AS cosin WHERE cosin > 0.5 '\n",
    "                    'MATCH (u2)-[r:RATED]->(m:Movie{id:$movieid})'\n",
    "                    'RETURN CASE WHEN SUM(cosin)>0 THEN SUM(cosin * r.rating)/SUM(cosin) ELSE 0 END  AS score ', userid=user, movieid = movie)\n",
    "    return rec.evaluate()"
   ]
  },
  {
   "cell_type": "markdown",
   "id": "605b2178",
   "metadata": {},
   "source": [
    "## Gợi ý phim cho user bằng độ đo Cosin lấy top k phim"
   ]
  },
  {
   "cell_type": "code",
   "execution_count": null,
   "id": "d749fc54",
   "metadata": {},
   "outputs": [],
   "source": [
    "def recommendCosin(user, K):\n",
    "    rec = graph.run(\n",
    "                   # Tính số movie được u1 rated và u2 rated. Sau đó tính độ tương tự Cosin\n",
    "                    'MATCH (u1:User {id:$userid})-[x:RATED]->(m:Movie)<-[y:RATED]-(u2:User) '\n",
    "                    'WITH COUNT(m) AS numbermovies, SUM(x.rating * y.rating) AS xyDotProduct,'\n",
    "                    'SQRT(REDUCE(xDot = 0.0, a IN COLLECT(x.rating) | xDot + a^2)) AS xLength,'\n",
    "                    'SQRT(REDUCE(yDot = 0.0, b IN COLLECT(y.rating) | yDot + b^2)) AS yLength, '\n",
    "                    'u1, u2 WHERE numbermovies > 5 '\n",
    "                    'WITH u1, u2, CASE WHEN xLength*yLength>0 THEN xyDotProduct/(xLength * yLength) ELSE 0 END AS cosin WHERE cosin > 0.5 '\n",
    "                    'MATCH (u2)-[r:RATED]->(m:Movie) WHERE NOT EXISTS( (u1)-[:RATED]->(m) )'\n",
    "                    'RETURN m.id, SUM(cosin * r.rating)/SUM(cosin) AS score ORDER BY score DESC LIMIT $K', userid=user, K = K)\n",
    "    return rec.to_data_frame()"
   ]
  },
  {
   "cell_type": "markdown",
   "id": "63d46651",
   "metadata": {},
   "source": [
    "## Dự đoán rating bằng độ đo Pearson"
   ]
  },
  {
   "cell_type": "code",
   "execution_count": null,
   "id": "fbbd49bf",
   "metadata": {},
   "outputs": [],
   "source": [
    "def predictRatingPearson(user, movie):\n",
    "    #rec = None\n",
    "    rec = graph.run(\n",
    "                   '''MATCH (u1:User {id:$userid})-[r1:RATED]->(m:Movie)\n",
    "                    WITH u1, avg(r1.rating) AS u1_mean, gds.alpha.similarity.asVector(m, r1.rating) AS u1Vector\n",
    "                    MATCH (u2:User)-[r2:RATED]->(m:Movie) WHERE u2 <> u1\n",
    "                    WITH u1, u1Vector, u1_mean, u2, avg(r2.rating) AS u2_mean, gds.alpha.similarity.asVector(m, r2.rating) AS u2Vector\n",
    "                    WHERE size(apoc.coll.intersection([v in u1Vector | v.category], [v in u2Vector | v.category])) > 5\n",
    "                    WITH u1, u2, u1_mean, u2_mean, gds.alpha.similarity.pearson(u1Vector, u2Vector, {vectorType: \"maps\"}) AS pearson\n",
    "                    WHERE pearson > 0.1\n",
    "                    MATCH (u2)-[r:RATED]->(m:Movie{id:$movieid}) \n",
    "                    RETURN (u1_mean + SUM(pearson * (r.rating - u2_mean))/SUM(pearson)) AS score''', userid=user, movieid=movie) \n",
    "    return rec.evaluate()"
   ]
  },
  {
   "cell_type": "markdown",
   "id": "adcacf26",
   "metadata": {},
   "source": [
    "## Gợi ý phim cho user sử dụng độ đo Pearson lấy top k phim"
   ]
  },
  {
   "cell_type": "code",
   "execution_count": null,
   "id": "9a331150",
   "metadata": {},
   "outputs": [],
   "source": [
    "def recommendPearson(user, K):\n",
    "    rec = graph.run(\n",
    "                   '''MATCH (u1:User {id:$userid})-[r1:RATED]->(m:Movie)\n",
    "                    WITH u1, avg(r1.rating) AS u1_mean, gds.alpha.similarity.asVector(m, r1.rating) AS u1Vector\n",
    "                    MATCH (u2:User)-[r2:RATED]->(m:Movie) WHERE u2 <> u1\n",
    "                    WITH u1, u1Vector, u1_mean, u2, avg(r2.rating) AS u2_mean, gds.alpha.similarity.asVector(m, r2.rating) AS u2Vector\n",
    "                    WHERE size(apoc.coll.intersection([v in u1Vector | v.category], [v in u2Vector | v.category])) > 5\n",
    "                    WITH u1, u2, u1_mean, u2_mean, gds.alpha.similarity.pearson(u1Vector, u2Vector, {vectorType: \"maps\"}) AS pearson\n",
    "                    WHERE pearson > 0.1\n",
    "                    MATCH (u2)-[r:RATED]->(m:Movie) WHERE NOT EXISTS( (u1)-[:RATED]->(m) )\n",
    "                    RETURN m.id, (u1_mean + SUM(pearson * (r.rating - u2_mean))/SUM(pearson)) AS score ORDER BY score DESC LIMIT $K''', userid=user, K = K)\n",
    "    return rec.to_data_frame()"
   ]
  },
  {
   "cell_type": "markdown",
   "id": "31cab042",
   "metadata": {},
   "source": [
    "# Đánh giá độ chính xác"
   ]
  },
  {
   "cell_type": "markdown",
   "id": "12caefc5",
   "metadata": {},
   "source": [
    "## Lưu dự đoán vào Neo4j"
   ]
  },
  {
   "cell_type": "code",
   "execution_count": null,
   "id": "8ede4054",
   "metadata": {},
   "outputs": [],
   "source": [
    "def listUM():\n",
    "    rec = graph.run('MATCH (u:User)-[r:RATED_LATE]->(m:Movie) RETURN u.id as userid, m.id as movieid, r.rating as rating, r.predCosin as predCosin, r.predPearson as predPearson')\n",
    "    df = rec.to_data_frame()\n",
    "    return df\n",
    "\n",
    "def predictData():\n",
    "    df = listUM()\n",
    "    for i in range(len(df)):\n",
    "        uid = df.iloc[i].userid\n",
    "        mid = df.iloc[i].movieid\n",
    "        #print(uid, mid)\n",
    "        predP = predictRatingPearson(uid, mid)\n",
    "        predC = predictRatingCosin(uid, mid)\n",
    "        if pred == None:\n",
    "            pred = 0\n",
    "        graph.run('''MATCH (u:User{id:$userid})-[r:RATED_LATE]->(m:Movie{id:$movieid}) SET r.predPearson = $predP\n",
    "                  SET r.predCosin = $predC''', userid=uid, movieid = mid, predP = predP, predC = predC)"
   ]
  },
  {
   "cell_type": "markdown",
   "id": "2452b586",
   "metadata": {},
   "source": [
    "## Độ chính xác dự đoán rating: MAE, RMSE"
   ]
  },
  {
   "cell_type": "code",
   "execution_count": null,
   "id": "febdae68",
   "metadata": {},
   "outputs": [],
   "source": [
    "def mae_rmse():\n",
    "    df = listUM()\n",
    "    s1 = 0\n",
    "    s2 = 0\n",
    "    for i in range(len(df)):\n",
    "        tg = abs(df.iloc[i].rating-df.iloc[i].predPearson)\n",
    "        ttg = tg * tg\n",
    "        s1 = s1 + tg\n",
    "        s2 = s2 + ttg\n",
    "    mae = s1/len(df)\n",
    "    rmse = math.sqrt(s2/len(df))\n",
    "    return mae, rmse\n",
    "a, b = mae_rmse()\n",
    "print(a, b)"
   ]
  },
  {
   "cell_type": "markdown",
   "id": "bc5d9374",
   "metadata": {},
   "source": [
    "## Độ chính xác Precision, Recall, F1 Score"
   ]
  },
  {
   "cell_type": "code",
   "execution_count": null,
   "id": "d153286a",
   "metadata": {},
   "outputs": [],
   "source": [
    "def precision_recall():\n",
    "    df = listUM()\n",
    "    TP = 0\n",
    "    TN = 0\n",
    "    FP = 0\n",
    "    FN = 0\n",
    "    for i in range(len(df)):\n",
    "        r = df.iloc[i].rating\n",
    "        p = df.iloc[i].predPearson\n",
    "        if r >=3 and p >=3: TP = TP + 1\n",
    "        if r >=3 and p < 3: FN = FN + 1\n",
    "        if r < 3 and p >=3: FP = FP + 1\n",
    "        if r < 3 and p < 3: TN = TN + 1\n",
    "    pre = TP/(TP + FP)\n",
    "    rec = TP/(TP + FN)\n",
    "    f1 = 2*pre*rec/(pre+rec)\n",
    "    return pre, rec, f1"
   ]
  }
 ],
 "metadata": {
  "kernelspec": {
   "display_name": "Python 3",
   "language": "python",
   "name": "python3"
  },
  "language_info": {
   "codemirror_mode": {
    "name": "ipython",
    "version": 3
   },
   "file_extension": ".py",
   "mimetype": "text/x-python",
   "name": "python",
   "nbconvert_exporter": "python",
   "pygments_lexer": "ipython3",
   "version": "3.9.5"
  }
 },
 "nbformat": 4,
 "nbformat_minor": 5
}
