{
 "cells": [
  {
   "cell_type": "markdown",
   "id": "46b9b89d",
   "metadata": {},
   "source": [
    "# Chương trình tính dự báo rating dữ liệu nạp trực tiếp từ file .csv\n",
    "\n",
    "# Sử dụng 2 độ đo tương tự Cosin và Pearson"
   ]
  },
  {
   "cell_type": "code",
   "execution_count": 2,
   "id": "db885aea",
   "metadata": {},
   "outputs": [],
   "source": [
    "import math\n",
    "import csv\n",
    "import pandas as pd\n"
   ]
  },
  {
   "cell_type": "markdown",
   "id": "7bfe6959",
   "metadata": {},
   "source": [
    "## Nạp dữ liệu và tính toán ban đầu"
   ]
  },
  {
   "cell_type": "code",
   "execution_count": null,
   "id": "f1f1cdf2",
   "metadata": {},
   "outputs": [],
   "source": [
    "Ratings = pd.read_csv(\"u1.base\", encoding=\"utf-8\", sep='\\t', header=None, names=['userId','movieId','rating','tmp'], engine='python')\n",
    "del Ratings['tmp']\n",
    "\n",
    "#Tinh trung bình rating của các user\n",
    "\n",
    "r_avg = Ratings.groupby(by=\"userId\",as_index=False)['rating'].mean()\n",
    "dmean = {}\n",
    "for i in range(len(r_avg)):\n",
    "    uid = r_avg.iloc[i].userId\n",
    "    rating = r_avg.iloc[i].rating\n",
    "    dmean[uid] = rating\n",
    "\n",
    "# Tinh d1 là từ điển chứa các rating của từng user: {1: {1: 5, 2: 3},...} la user 1 rating movie 1 mức 5,2 mức 3,...\n",
    "d1 = {} \n",
    "for i in range(len(Ratings)):\n",
    "    uid = Ratings.iloc[i].userId\n",
    "    mid = Ratings.iloc[i].movieId\n",
    "    rating = Ratings.iloc[i].rating\n",
    "    if uid in d1:\n",
    "        p = d1.get(uid)\n",
    "        p[mid] = rating \n",
    "    else:\n",
    "        p={mid:rating}\n",
    "        d1[uid] = p"
   ]
  },
  {
   "cell_type": "markdown",
   "id": "c8131474",
   "metadata": {},
   "source": [
    "# # Dự đoán rating bằng độ đo Cosin"
   ]
  },
  {
   "cell_type": "code",
   "execution_count": 5,
   "id": "3fbbfa42",
   "metadata": {},
   "outputs": [
    {
     "name": "stdout",
     "output_type": "stream",
     "text": [
      "3.6957641951374014\n"
     ]
    }
   ],
   "source": [
    "def sim_cosin(r1, r2):\n",
    "    t = 0\n",
    "    m1 = 0\n",
    "    m2 = 0\n",
    "    for i in range(len(r1)):\n",
    "        t = t + r1[i]*r2[i]\n",
    "        m1 = m1 + r1[i]*r1[i]\n",
    "        m2= m2+ r2[i]*r2[i]\n",
    "    return t/math.sqrt(m1*m2)\n",
    "\n",
    "def predictRatingCosin(user, movie):\n",
    "    l1 = d1.get(user).keys() #nhung movie user rated\n",
    "    lu = [] # nhung user co chung rating it nhat 1 movie \n",
    "    for i in d1:\n",
    "        li = d1.get(i).keys() #Nhung movie ma user i rated\n",
    "        if i!=user and len(l1&li) > 5:\n",
    "            lu.append(i) #them user i vao ds chung\n",
    "    \n",
    "    sim = [] #tinh do tuong tu giua user voi cac user có chung rated\n",
    "    for i in lu:\n",
    "        r1=[]\n",
    "        r2=[]\n",
    "        l2 = d1.get(i).keys()\n",
    "        l = l1&l2\n",
    "        for j in l:\n",
    "            r1.append(d1[user][j])\n",
    "            r2.append(d1[i][j])\n",
    "        sim.append(sim_cosin(r1,r2))\n",
    "    t = 0\n",
    "    m = 0\n",
    "    for i in range(len(lu)):\n",
    "        u2 = lu[i]\n",
    "        if movie in d1[u2] and sim[i] > 0.5:\n",
    "            t = t + (d1[u2][movie])*sim[i]\n",
    "            m = m + sim[i]\n",
    "    return t/m        "
   ]
  },
  {
   "cell_type": "markdown",
   "id": "57b6e72d",
   "metadata": {},
   "source": [
    "## Dự đoán rating bằng độ đo Pearson"
   ]
  },
  {
   "cell_type": "code",
   "execution_count": 4,
   "id": "e26e35b4",
   "metadata": {},
   "outputs": [],
   "source": [
    "def sim_pearson(r1, r2, av1, av2):\n",
    "    t = 0\n",
    "    m1 = 0\n",
    "    m2 = 0\n",
    "    for i in range(len(r1)):\n",
    "        t = t + (r1[i]-av1)*(r2[i]-av2)\n",
    "        m1 = m1 + (r1[i]-av1)*(r1[i]-av1)\n",
    "        m2= m2+ (r2[i]-av2)*(r2[i]-av2)\n",
    "    return t/(math.sqrt(m1)*math.sqrt(m2))\n",
    "\n",
    "def predictRatingPearsonx(user, movie):\n",
    "    l1 = d1.get(user).keys() #nhung movie user rated\n",
    "    lu = [] # nhung user co chung rating it nhat 1 movie \n",
    "    for i in d1:\n",
    "        li = d1.get(i).keys() #Nhung movie ma user i rated\n",
    "        if i!=user and len(l1&li) > 5:\n",
    "            lu.append(i) #them user i vao ds chung\n",
    "    \n",
    "    sim = [] #tinh do tuong tu giua user voi cac user có chung rated\n",
    "    for i in lu:\n",
    "        r1=[]\n",
    "        r2=[]\n",
    "        l2 = d1.get(i).keys()\n",
    "        l = l1&l2\n",
    "        for j in l:\n",
    "            r1.append(d1[user][j])\n",
    "            r2.append(d1[i][j])\n",
    "        sim.append(sim_pearson(r1,r2, dmean[user],dmean[i]))\n",
    "    t = 0\n",
    "    m = 0\n",
    "    for i in range(len(lu)):\n",
    "        u2 = lu[i]\n",
    "        if movie in d1[u2] and sim[i] > 0.1:\n",
    "            t = t + (d1[u2][movie]-dmean[u2])*sim[i]\n",
    "            m = m + sim[i]\n",
    "    return dmean[user]+t/m        "
   ]
  }
 ],
 "metadata": {
  "kernelspec": {
   "display_name": "Python 3",
   "language": "python",
   "name": "python3"
  },
  "language_info": {
   "codemirror_mode": {
    "name": "ipython",
    "version": 3
   },
   "file_extension": ".py",
   "mimetype": "text/x-python",
   "name": "python",
   "nbconvert_exporter": "python",
   "pygments_lexer": "ipython3",
   "version": "3.9.5"
  }
 },
 "nbformat": 4,
 "nbformat_minor": 5
}
